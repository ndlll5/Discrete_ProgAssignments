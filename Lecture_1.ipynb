{
 "cells": [
  {
   "cell_type": "markdown",
   "id": "8c4d862d-3928-4fb5-a552-b492e18d9310",
   "metadata": {},
   "source": [
    "Nic Leander A. Delgado\\\n",
    "CIS 1203 Lecture 1 Assignment"
   ]
  },
  {
   "cell_type": "markdown",
   "id": "2cb5feb0-d84d-4b8e-9855-01f7d4b3b51b",
   "metadata": {},
   "source": [
    "---"
   ]
  },
  {
   "cell_type": "markdown",
   "id": "9adb699c-a63a-486b-acd7-c80ba7f1f1bb",
   "metadata": {},
   "source": [
    "1. Recall the definition of a rational number, denoted as $\\mathbb{Q}$,  Prove that the Euler's number $e = \\sum_{k=0}^{\\infty} \\frac{1}{k!} \\notin \\mathbb{Q}$. A factorial is defined as ${k!} = (k)(k-1)(k-2)(k-3)...,\\forall{k} \\in \\mathbb{Z}$, note that $0! = 1$. Furthermore, a sum notation $\\sum_{k=0}^{\\infty}{k} = 0 + 1 + 2 + 3 + ....+...$"
   ]
  },
  {
   "cell_type": "markdown",
   "id": "ae174abd-49dc-4456-8cbf-bb4eac5a3392",
   "metadata": {},
   "source": [
    "<p>&nbsp;&nbsp;&nbsp;&nbsp;&nbsp;&nbsp; Proving by contradiction, assume that $e$ is rational. By definition, a number is considered rational, if and only if, it can be expressed as a quotient of two integers with a nonzero denominator. We shall then assume that: </p>"
   ]
  },
  {
   "cell_type": "markdown",
   "id": "3ebdd48f-7c5a-4940-95e7-b16c2b663681",
   "metadata": {},
   "source": [
    "<center> $\\frac{m}{n} = e = \\sum_{k=0}^{\\infty} \\frac{1}{k!}$ </center>"
   ]
  },
  {
   "cell_type": "markdown",
   "id": "e109051e-df2f-4a98-82b2-54587630a5da",
   "metadata": {},
   "source": [
    "<p>&nbsp;&nbsp;&nbsp;&nbsp;&nbsp;&nbsp; Where $m$ and $n$ are positive integers, and $n \\neq 0$ </p>"
   ]
  },
  {
   "cell_type": "markdown",
   "id": "bf6f9e39-3258-49b7-a5e0-f6ca3028a927",
   "metadata": {},
   "source": [
    "<p>&nbsp;&nbsp;&nbsp;&nbsp;&nbsp;&nbsp; We then expand $e = \\sum_{k=0}^{\\infty} \\frac{1}{k!}$ in accordance to the sum notation:</p>"
   ]
  },
  {
   "cell_type": "markdown",
   "id": "750d4d02-c69c-4112-98c4-5125fbe3df00",
   "metadata": {},
   "source": [
    "<center> $\\frac{m}{n} = \\sum_{k=0}^{\\infty} \\frac{1}{k!}= \\frac{1}{0!} + \\frac{1}{1!} + \\frac{1}{2!} + \\frac{1}{3!} + ...$ </center>"
   ]
  },
  {
   "cell_type": "markdown",
   "id": "77d6e0d7-f227-4493-9dd2-9ead8d6a814a",
   "metadata": {},
   "source": [
    "<p>&nbsp;&nbsp;&nbsp;&nbsp;&nbsp;&nbsp;&nbsp;Each side is then multiplied by $n!$:\n",
    "</p>"
   ]
  },
  {
   "cell_type": "markdown",
   "id": "16980ab8-ec27-47d8-ac1f-7a4de4e43ad1",
   "metadata": {},
   "source": [
    "<center> $\\frac{m}{n} {n!} = {n!}\\sum_{k=0}^{\\infty} \\frac{1}{k!}$ </center>"
   ]
  },
  {
   "cell_type": "markdown",
   "id": "fe3646fc-0f28-4a2a-add0-cf43a660e536",
   "metadata": {},
   "source": [
    "<center> $\\frac{m}{n} {n!} = \\sum_{k=0}^{\\infty} \\frac{n!}{k!}$ </center>"
   ]
  },
  {
   "cell_type": "markdown",
   "id": "48f15226-ea61-47d0-8369-6324cee6032d",
   "metadata": {},
   "source": [
    "<p>&nbsp;&nbsp;&nbsp;&nbsp;&nbsp;&nbsp;&nbsp;Hence:\n",
    "</p>"
   ]
  },
  {
   "cell_type": "markdown",
   "id": "f52cfecc-115c-4413-90a6-14d6592570be",
   "metadata": {},
   "source": [
    "<center> $\\frac{m}{n} {n}({n-1}!) = \\sum_{k=0}^{\\infty} \\frac{n!}{k!}$"
   ]
  },
  {
   "cell_type": "markdown",
   "id": "a98c9488-f02f-4721-ad5d-898e3851219c",
   "metadata": {},
   "source": [
    "<center> ${m}({n-1})! = \\sum_{k=0}^{\\infty} \\frac{n!}{k!}$"
   ]
  },
  {
   "cell_type": "markdown",
   "id": "d6dca553-62cb-40c0-b1bf-0ce6e5ae402a",
   "metadata": {},
   "source": [
    "<p>&nbsp;&nbsp;&nbsp;&nbsp;&nbsp;&nbsp;&nbsp;We can expand the equation further:\n",
    "</p>"
   ]
  },
  {
   "cell_type": "markdown",
   "id": "dbf95576-263b-4384-b3d7-d9614ce34390",
   "metadata": {},
   "source": [
    "<center> ${m}({n-1})! = (\\frac{n!}{0!} + \\frac{n!}{1!} + \\frac{n!}{2!} + \\frac{n!}{3!} + ... + \\frac{n!}{n!}) + (\\frac{n!}{n+1!} + \\frac{n!}{n+2!} + \\frac{n!}{n+3!} + ... )$"
   ]
  },
  {
   "cell_type": "markdown",
   "id": "a503d4bb-f2ec-4a54-864a-aea57f2e88c2",
   "metadata": {},
   "source": [
    "<p>&nbsp;&nbsp;&nbsp;&nbsp;&nbsp;&nbsp;&nbsp;We see that $\\frac{n!}{0!} + \\frac{n!}{1!} + \\frac{n!}{2!} + \\frac{n!}{3!} + ... + \\frac{n!}{n!}$ is an integer, as they are composed of sums of integers. ${m}({n-1})!$ is also an integer as well. We are left with the rightmost term $\\frac{n!}{n+1!} + \\frac{n!}{n+2!} + \\frac{n!}{n+3!} + ...$, which should also be an integer. \n",
    "</p>"
   ]
  },
  {
   "cell_type": "markdown",
   "id": "2c5c6be4-751b-4291-bbc3-295e21e486e7",
   "metadata": {},
   "source": [
    "<center> $\\frac{n!}{n+1!} + \\frac{n!}{n+2!} + \\frac{n!}{n+3!} + ... = \\frac{{n!}}{(n+1)n!} + \\frac{n!}{(n+2)(n+1)n!} + \\frac{n!}{(n+3)(n+2)(n+1)n!} + ...$ "
   ]
  },
  {
   "cell_type": "markdown",
   "id": "8ce883f3-ac40-41db-8912-09ecbc33724f",
   "metadata": {},
   "source": [
    "<center> $= \\frac{1}{n+1} + \\frac{1}{(n+1)(n+2)} + \\frac{1}{(n+1)(n+2)(n+3)} + ...$"
   ]
  },
  {
   "cell_type": "markdown",
   "id": "aca4d732-4f65-4259-86c1-2dd4c18ab19c",
   "metadata": {},
   "source": [
    "<p>&nbsp;&nbsp;&nbsp;&nbsp;&nbsp;&nbsp;&nbsp;Each term above equals fractions that are less than one but greater than zero. Consequently, none of these terms can contribute an integer value to the sum, as there are no integers between 0 and 1. Therefore, the rightmost term, being a sum of such fractions, cannot yield an integer. This contradicts the left side of our equation, which is an integer. Hence, our initial assumption that $e$ can be expressed as a rational number must be false. Therefore, $e$ is irrational.\n"
   ]
  },
  {
   "cell_type": "markdown",
   "id": "ab8c6621-5026-42bc-a299-b979d885962f",
   "metadata": {},
   "source": [
    "---"
   ]
  },
  {
   "cell_type": "markdown",
   "id": "8f9d213d-adf1-4165-a0e2-daacbfc15fca",
   "metadata": {},
   "source": [
    "2. Prove Minkowski's Inequality for sums, $\\forall \\: p > 1, (a_{k},b_{k}) > 0 :$"
   ]
  },
  {
   "cell_type": "markdown",
   "id": "9eec51ed-dc8b-43af-9730-a00d1db47a53",
   "metadata": {},
   "source": [
    "<center> $\\left [\\sum ^{n}_{k=1} \\left | a_{k} + b_{k} \\right |^{p}  \\right ]^{\\frac{1}{p}} \\leq \\left [\\sum ^{n}_{k=1} \\left | a_{k} \\right |^{p}  \\right ]^{\\frac{1}{p}} + \\left [\\sum ^{n}_{k=1} \\left | b_{k} \\right |^{p}  \\right ]^{\\frac{1}{p}}$"
   ]
  },
  {
   "cell_type": "markdown",
   "id": "43ff87ce-c944-4ba8-b432-7b033755c912",
   "metadata": {},
   "source": [
    "<p>&nbsp;&nbsp;&nbsp;&nbsp;&nbsp;&nbsp; Using the property of exponents, we know that $(a^{m})^{n} = a^{mn}$. Applying this property: </p>"
   ]
  },
  {
   "cell_type": "markdown",
   "id": "b9fe1348-e4f4-48e5-8e24-180117cd21a0",
   "metadata": {},
   "source": [
    "<center> $\\left [\\sum ^{n}_{k=1} \\left | a_{k} + b_{k} \\right |  \\right ]^{p\\frac{1}{p}} \\leq \\left [\\sum ^{n}_{k=1} \\left | a_{k} \\right |  \\right ]^{p\\frac{1}{p}} + \\left [\\sum ^{n}_{k=1} \\left | b_{k} \\right |  \\right ]^{p\\frac{1}{p}}$"
   ]
  },
  {
   "cell_type": "markdown",
   "id": "1eda2751-71bc-4f6c-8352-f229c712fe6e",
   "metadata": {},
   "source": [
    "<center> $\\left [\\sum ^{n}_{k=1} \\left | a_{k} + b_{k} \\right |  \\right ]^{1} \\leq \\left [\\sum ^{n}_{k=1} \\left | a_{k} \\right |  \\right ]^{1} + \\left [\\sum ^{n}_{k=1} \\left | b_{k} \\right |  \\right ]^{1}$"
   ]
  },
  {
   "cell_type": "markdown",
   "id": "16933656-280d-415b-877d-6b418f13aacf",
   "metadata": {},
   "source": [
    "<center> $\\sum_{k=1}^{n} \\left| a_{k} + b_{k} \\right| \\leq \\sum_{k=1}^{n} \\left| a_{k} \\right| + \\sum_{k=1}^{n} \\left| b_{k} \\right|\n",
    "$"
   ]
  },
  {
   "cell_type": "markdown",
   "id": "16fdd5bb-1c61-4e51-ac5b-cabcce3ec484",
   "metadata": {},
   "source": [
    "<p>&nbsp;&nbsp;&nbsp;&nbsp;&nbsp;&nbsp;Now, we apply the summation properties for addition, where:</p>"
   ]
  },
  {
   "cell_type": "markdown",
   "id": "124ac4cb-cf13-4ed2-b433-0b45cb80868d",
   "metadata": {},
   "source": [
    "<center> $\\sum_{k=1}^{n} \\left| a_{k} \\right| + \\sum_{k=1}^{n} \\left| b_{k} \\right| = \\sum_{k=1}^{n} \\left| a_{k} \\right| + \\left| b_{k}\\right|$"
   ]
  },
  {
   "cell_type": "markdown",
   "id": "d9046b00-dc56-4157-a829-3410754f0fd4",
   "metadata": {},
   "source": [
    "<p>&nbsp;&nbsp;&nbsp;&nbsp;&nbsp;&nbsp;We then utilize the triangle inequality, where $\\left| x + y \\right| \\leq \\left| x \\right| + \\left| y \\right|$. With this in mind, we apply this to each term $a_{k}$ and $b_{k}$:</p>"
   ]
  },
  {
   "cell_type": "markdown",
   "id": "43ba2160-e382-44be-bd07-e4bccfdaf2e5",
   "metadata": {},
   "source": [
    "<center> $\\sum_{k=1}^{n} \\left| a_{k} + b_{k} \\right| \\leq \\sum_{k=1}^{n} \\left| a_{k} \\right| + \\left| b_{k}\\right|\n",
    "$"
   ]
  },
  {
   "cell_type": "markdown",
   "id": "f5539f7a-6ab3-43ea-91be-e81cd2ba797d",
   "metadata": {},
   "source": [
    "<p>&nbsp;&nbsp;&nbsp;&nbsp;&nbsp;&nbsp;Thus, Minkowski's Inequality for sums is proven.</p>"
   ]
  },
  {
   "cell_type": "markdown",
   "id": "2fe06be7-ded1-4f2d-8a3e-014417a11055",
   "metadata": {},
   "source": [
    "---"
   ]
  },
  {
   "cell_type": "markdown",
   "id": "6e0363df-a8a4-44f5-9eb6-5c4a794f0b9e",
   "metadata": {},
   "source": [
    "3. Prove the triangle inequality $\\left | x + y \\right | \\leq \\left | x \\right | + \\left | y \\right |, \\forall (x,y) \\in \\mathbb{R}$"
   ]
  },
  {
   "cell_type": "markdown",
   "id": "ddc73a50-eef8-4ad4-9b8e-a6b7d57709d5",
   "metadata": {},
   "source": [
    "<p>&nbsp;&nbsp;&nbsp;&nbsp;&nbsp;&nbsp; We put into mind three cases: (1) where both x and y are nonnegative, (2) when both of them are negative, and (3) when one of them are negative and the other is nonnegative. </p>"
   ]
  },
  {
   "cell_type": "markdown",
   "id": "0c389121-c415-43f7-9f08-df2cc8cc6271",
   "metadata": {},
   "source": [
    "  "
   ]
  },
  {
   "cell_type": "markdown",
   "id": "849b9f8f-fe13-40ca-a181-a0f250b58e9f",
   "metadata": {},
   "source": [
    "<p>&nbsp;&nbsp;&nbsp;&nbsp;&nbsp;&nbsp; Case 1: Both x and y are nonnegative: </p>"
   ]
  },
  {
   "cell_type": "markdown",
   "id": "816e8681-7392-48b3-94c5-8b45cac765e5",
   "metadata": {},
   "source": [
    "<center> Let $\\left | x  +  y \\right | = x + y$ and $\\left | x \\right | = x, \\left | y \\right | = y$"
   ]
  },
  {
   "cell_type": "markdown",
   "id": "78743a1d-d745-409f-b9b0-5a233987f5b5",
   "metadata": {},
   "source": [
    "<center> Therefore, $\\left | x  +  y \\right | = x + y = \\left | x \\right | + \\left | y \\right |$"
   ]
  },
  {
   "cell_type": "markdown",
   "id": "46d41680-8cc0-45d3-a825-491ed5af651a",
   "metadata": {},
   "source": [
    "<p>&nbsp;&nbsp;&nbsp;&nbsp;&nbsp;&nbsp; Case 2: Both x and y are negative: </p>"
   ]
  },
  {
   "cell_type": "markdown",
   "id": "59fa19ca-6310-4379-9001-d6ce7441d20d",
   "metadata": {},
   "source": [
    "<center> Let $\\left | x  +  y \\right | = -(x + y)$ and $\\left | x \\right | = -x, \\left | y \\right | = -y$"
   ]
  },
  {
   "cell_type": "markdown",
   "id": "73e57471-e076-4ee4-a6fa-dc04d3501b1e",
   "metadata": {},
   "source": [
    "<center> Therefore, $\\left | x  +  y \\right | = -(x + y) = -x -y = \\left | x \\right | + \\left | y \\right |$"
   ]
  },
  {
   "cell_type": "markdown",
   "id": "f7cb451e-e428-49fc-8c4f-e7c9fcefc6dc",
   "metadata": {},
   "source": [
    "<p>&nbsp;&nbsp;&nbsp;&nbsp;&nbsp;&nbsp; Case 3: One of them is negative and other is negative (assume x is nonnegative and y is negative): </p>"
   ]
  },
  {
   "cell_type": "markdown",
   "id": "4d8cd996-888a-4a1e-9e1b-31d31e9f7954",
   "metadata": {},
   "source": [
    "<center> Let $\\left | x  +  y \\right | = x - y$ and $\\left | x \\right | = x, \\left | y \\right | = -y$ </center>"
   ]
  },
  {
   "cell_type": "markdown",
   "id": "51bf8d6c-c5bb-4392-a6d2-83e050e97981",
   "metadata": {},
   "source": [
    "<center>Therefore, $\\left | x  +  y \\right | = x - y \\leq x + (-y) = \\left | x \\right | + \\left | y \\right |$</center> "
   ]
  },
  {
   "cell_type": "markdown",
   "id": "aad6e322-7b9a-4dfb-b859-6aebcd51d4c7",
   "metadata": {},
   "source": [
    "<p>&nbsp;&nbsp;&nbsp;&nbsp;&nbsp;&nbsp; The case that y is nonnegative and x is negative would follow by symmetry from case 3. </p>"
   ]
  },
  {
   "cell_type": "markdown",
   "id": "b17dfddd-d622-4229-9ad8-ba227fe8ad47",
   "metadata": {},
   "source": [
    "  "
   ]
  },
  {
   "cell_type": "markdown",
   "id": "ec48c9ad-1e87-40f6-acaf-61ead09537d2",
   "metadata": {},
   "source": [
    "<p>&nbsp;&nbsp;&nbsp;&nbsp;&nbsp;&nbsp; This proves then the triangle inequality.</p>"
   ]
  },
  {
   "cell_type": "markdown",
   "id": "e95b8cdd-afdb-43f7-8a46-1de277914d4d",
   "metadata": {},
   "source": [
    "---"
   ]
  },
  {
   "cell_type": "markdown",
   "id": "e8649a21-c157-4cbc-befb-68e8031e0656",
   "metadata": {},
   "source": [
    "4. Prove Sedrakayan's Lemma $\\forall u_{i},v_{i} \\in \\mathbb{R}^{+}$:"
   ]
  },
  {
   "cell_type": "markdown",
   "id": "b3189683-4d4c-49c7-b78c-b61182d91974",
   "metadata": {},
   "source": [
    "<center> $\\frac{(\\sum^{n}_{i=1}u_i)^2}{\\sum^{n}_{i=1}v_i} \\leq \\sum^{n}_{i=1} \\frac{(u_i)^2}{v_i}$"
   ]
  },
  {
   "cell_type": "markdown",
   "id": "2839150f-e155-4aec-9aed-c7a969733c73",
   "metadata": {},
   "source": [
    "<p>&nbsp;&nbsp;&nbsp;&nbsp;&nbsp;&nbsp; Let's use the Cauchy-Schwarz inequality. In the context of sequences $a_1, a_2, ..., a_n$ and $b_1, b_2, ..., b_n$, the Cauchy-Schwarz inequality states:</p>"
   ]
  },
  {
   "cell_type": "markdown",
   "id": "60391f35-7ec4-4a1e-a250-55cfccbc264a",
   "metadata": {},
   "source": [
    "<center> $\n",
    "\\left( \\sum_{i=1}^n a_i b_i \\right)^2 \\leq \\left( \\sum_{i=1}^n a_i^2 \\right) \\left( \\sum_{i=1}^n b_i^2 \\right)\n",
    "$"
   ]
  },
  {
   "cell_type": "markdown",
   "id": "f98e0bdf-aed3-4e54-8afb-269e76ea930a",
   "metadata": {},
   "source": [
    "<p>&nbsp;&nbsp;&nbsp;&nbsp;&nbsp;&nbsp;To apply this inequality, let $a_i = \\frac{u_i}{\\sqrt{v_i}}$ and $b_i = \\sqrt{v_i}$. We then have:</p>"
   ]
  },
  {
   "cell_type": "markdown",
   "id": "aba28940-409d-4fa4-a3a4-4d7fde4f3bbf",
   "metadata": {},
   "source": [
    "<center> $\\sum_{i=1}^n a_i b_i = \\sum_{i=1}^n \\frac{u_i}{\\sqrt{v_i}} \\cdot \\sqrt{v_i} = \\sum_{i=1}^n u_i$"
   ]
  },
  {
   "cell_type": "markdown",
   "id": "0b50ae4f-e160-4cc2-b91c-252a72d34928",
   "metadata": {},
   "source": [
    "<center> $\\sum_{i=1}^n a_i^2 = \\sum_{i=1}^n \\left(\\frac{u_i}{\\sqrt{v_i}}\\right)^2 = \\sum_{i=1}^n \\frac{u_i^2}{v_i}$"
   ]
  },
  {
   "cell_type": "markdown",
   "id": "f4a39ef2-d646-44dc-92e3-3b0fef19f8d7",
   "metadata": {},
   "source": [
    "<center> $\\sum_{i=1}^n b_i^2 = \\sum_{i=1}^n (\\sqrt{v_i})^2 = \\sum_{i=1}^n v_i\n",
    "$"
   ]
  },
  {
   "cell_type": "markdown",
   "id": "e615bb35-b7f0-4d94-8a99-415dbc4c6195",
   "metadata": {},
   "source": [
    "<p>&nbsp;&nbsp;&nbsp;&nbsp;&nbsp;&nbsp;Applying the Cauchy-Schwarz inequality:</p>"
   ]
  },
  {
   "cell_type": "markdown",
   "id": "24f793ab-6ad2-4383-b836-0a04233852b5",
   "metadata": {},
   "source": [
    "<center> $\\left( \\sum_{i=1}^n u_i \\right)^2 = \\left( \\sum_{i=1}^n a_i b_i \\right)^2 \\leq \\left( \\sum_{i=1}^n a_i^2 \\right) \\left( \\sum_{i=1}^n b_i^2 \\right)$"
   ]
  },
  {
   "cell_type": "markdown",
   "id": "b5d931bb-355e-444e-ab62-5a5b2f79b45a",
   "metadata": {},
   "source": [
    "<p>&nbsp;&nbsp;&nbsp;&nbsp;&nbsp;&nbsp;Substituting $a^2_i$ and $b^2_i$ with our expressions:</p>"
   ]
  },
  {
   "cell_type": "markdown",
   "id": "c44017ea-a571-404b-8283-20361f571132",
   "metadata": {},
   "source": [
    "<center> $\\left( \\sum_{i=1}^n u_i \\right)^2 \\leq \\left( \\sum_{i=1}^n \\frac{u_i^2}{v_i} \\right) \\left( \\sum_{i=1}^n v_i \\right)$"
   ]
  },
  {
   "cell_type": "markdown",
   "id": "f5a45d20-b80f-4e93-a221-bf092507fc96",
   "metadata": {},
   "source": [
    "<p>&nbsp;&nbsp;&nbsp;&nbsp;&nbsp;&nbsp;Finally, dividing both sides by $\\sum_{i=1}^n v_i$:</p>"
   ]
  },
  {
   "cell_type": "markdown",
   "id": "5c4a6f98-9232-4c1a-8bc6-db007aa423d7",
   "metadata": {},
   "source": [
    "<center> $\\frac{\\left( \\sum_{i=1}^n u_i \\right)^2}{\\sum_{i=1}^n v_i} \\leq \\sum_{i=1}^n \\frac{u_i^2}{v_i}$"
   ]
  },
  {
   "cell_type": "markdown",
   "id": "02e9aeb8-a207-4596-85fa-20eda82de86c",
   "metadata": {},
   "source": [
    "<p>&nbsp;&nbsp;&nbsp;&nbsp;&nbsp;&nbsp;Thus, we have proven Sedrakayan's Lemma.</p>"
   ]
  },
  {
   "cell_type": "markdown",
   "id": "c803a07e-6fa4-4bdc-9cc9-7a4a99713e6e",
   "metadata": {},
   "source": [
    "---"
   ]
  },
  {
   "cell_type": "markdown",
   "id": "930f0ada-82d5-48cb-b549-38f63ed1a269",
   "metadata": {},
   "source": [
    "1. Consider the functions $f(x) = 2x+1$, $g(x)=2y-1$, $j(x) = |f(x)+g(x)|$, and $h(x) = j(x)^2,$ show for the following inequality that:\n",
    "\n",
    "$$\\sqrt{|f(x)|^2} \\geq \\sqrt{h(x)} - \\sqrt{|g(x)|^2}, \\forall (x,y) \\in \\mathbb{Z}^+$$\n",
    "\n",
    "\n",
    "In this step, we start by substituting the expressions for $ |f(x)|^2 $, $ |g(x)|^2 $, $ h(x) $, and $ j(x) $ into the original inequality. This allows us to express the inequality in terms of the functions $ f(x) $, $ g(x) $, and $ h(x) $, which are given in the problem statement.\n",
    "\n",
    "$$ \\sqrt{|f(x)|^2} \\geq \\sqrt{|f(x) + g(x)|^2} - \\sqrt{|g(x)|^2} $$\n",
    "\n",
    "Minkowski's Inequality states that for any real numbers $ a_1, a_2, b_1, b_2 $, $ |a_1 + b_1| \\leq |a_1| + |b_1| $. In this step, we apply Minkowski's Inequality to the terms $ |f(x)| $, $ |f(x) + g(x)| $, and $ |g(x)| $, which allows us to rewrite the absolute value expression in terms of sums.\n",
    "\n",
    "$$ |f(x)| \\geq |f(x) + g(x)| - |g(x)| $$\n",
    "\n",
    "By transposing terms in the inequality obtained from Minkowski's Inequality, we rearrange the terms to isolate the absolute value of $ f(x) $ and $ g(x) $ on one side of the inequality.\n",
    "\n",
    "$$ |f(x)| + |g(x)| \\geq |f(x) + g(x)| $$\n",
    "\n",
    "The Triangle Inequality states that for any real numbers $ a $ and $ b $, $ |a + b| \\leq |a| + |b| $. By rearranging the inequality obtained in the previous step, we make it resemble the form of the Triangle Inequality, which helps in further simplification and understanding of the relationship between the absolute values.\n",
    "\n",
    "$$ |f(x) + g(x)| \\leq |f(x)| + |g(x)| $$\n",
    "\n",
    "We then prove with the case: $f(x) > 0$, and $g(x) > 0$, Since $\\forall (x,y) \\in \\mathbb{Z}^+$}\n",
    "\n",
    "We consider the specific case where both $ f(x) $ and $ g(x) $ are positive. This allows us to simplify the absolute value expressions to their corresponding positive values. By substituting $ |f(x) + g(x)| = f(x) + g(x) $, we effectively prove that the original inequality holds true for this specific case. Since the inequality is symmetric with respect to $ f(x) $ and $ g(x) $, the proof holds for other cases as well.\n",
    "\n",
    "Thus, the original inequality holds true for all $x, y \\in \\mathbb{Z}^+$.\n"
   ]
  },
  {
   "cell_type": "markdown",
   "id": "a637574e-a4ee-449a-9f2b-48cd7505dcf8",
   "metadata": {},
   "source": [
    "---"
   ]
  },
  {
   "cell_type": "markdown",
   "id": "d0ade283-959e-4234-b645-78599585dff2",
   "metadata": {},
   "source": [
    "2. Prove Sedrakayan's Lemma if $u_i, v_i$ are square roots of an even integers:\n",
    "\n",
    "$$\\frac{(\\Sigma_{i=1}^n u_i)^2}{\\Sigma_{i=1}^n v_i}\\leq\n",
    "\\Sigma_{i=1}^n \\frac{(u_i)^2}{v_i}\n",
    "$$\n",
    "\n",
    "\n",
    "Given $ u_i = \\sqrt{2a_i} $ and $ v_i = \\sqrt{2b_i} $, where $ a_i $ and $ b_i $ are positive integers, we want to show that:\n",
    "\n",
    "$$\n",
    "\\frac{\\left( \\sum_{i=1}^n \\sqrt{2a_i} \\right)^2}{\\sum_{i=1}^n \\sqrt{2b_i}} \\leq \\sum_{i=1}^n \\frac{(2a_i)}{(2b_i)}\n",
    "$$\n",
    "\n",
    "Expanding the numerator and simplifying the denominator, we get:\n",
    "\n",
    "$$\n",
    "\\frac{\\left( \\sum_{i=1}^n \\sqrt{2a_i} \\right)^2}{\\sum_{i=1}^n \\sqrt{2b_i}} = \\frac{\\left( \\sum_{i=1}^n \\sqrt{2a_i} \\right) \\left( \\sum_{i=1}^n \\sqrt{2a_i} \\right)}{\\sum_{i=1}^n \\sqrt{2b_i}} = \\frac{\\sum_{i=1}^n (2a_i) + 2 \\sum_{1 \\leq i < j \\leq n} \\sqrt{2a_i} \\sqrt{2a_j}}{\\sum_{i=1}^n \\sqrt{2b_i}}\n",
    "$$\n",
    "\n",
    "Now, we know that $ 2a_i $ and $ 2b_i $ are even integers. Therefore, $ 2 \\sum_{1 \\leq i < j \\leq n} \\sqrt{2a_i} \\sqrt{2a_j} $ is even.\n",
    "\n",
    "This allows us to rewrite the inequality as:\n",
    "\n",
    "$$\n",
    "\\frac{\\sum_{i=1}^n (2a_i)}{\\sum_{i=1}^n \\sqrt{2b_i}} + \\frac{2 \\sum_{1 \\leq i < j \\leq n} \\sqrt{2a_i} \\sqrt{2a_j}}{\\sum_{i=1}^n \\sqrt{2b_i}} \\leq \\sum_{i=1}^n \\frac{(2a_i)}{\\sqrt{2b_i}}\n",
    "$$\n",
    "\n",
    "Simplifying, we get:\n",
    "\n",
    "$$\n",
    "\\frac{\\sum_{i=1}^n (2a_i)}{\\sum_{i=1}^n \\sqrt{2b_i}} \\leq \\sum_{i=1}^n \\frac{(2a_i)}{\\sqrt{2b_i}}\n",
    "$$\n",
    "\n",
    "We observe that both sides of the inequality are non-negative. Furthermore, considering that the numerator of the left-hand side contains the terms of the denominator of the right-hand side, the inequality remains valid.\n",
    "\n",
    "Thus, Sedrakayan's Lemma is substantiated for $u_i$ and $v_i$ as the square roots of even integers.\n"
   ]
  }
 ],
 "metadata": {
  "kernelspec": {
   "display_name": "Python 3 (ipykernel)",
   "language": "python",
   "name": "python3"
  },
  "language_info": {
   "codemirror_mode": {
    "name": "ipython",
    "version": 3
   },
   "file_extension": ".py",
   "mimetype": "text/x-python",
   "name": "python",
   "nbconvert_exporter": "python",
   "pygments_lexer": "ipython3",
   "version": "3.12.2"
  }
 },
 "nbformat": 4,
 "nbformat_minor": 5
}
