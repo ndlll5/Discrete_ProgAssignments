{
 "cells": [
  {
   "cell_type": "markdown",
   "id": "35365657-b9d1-440e-8a3d-f6aeb477bc48",
   "metadata": {},
   "source": [
    "<p>Nic Leander A. Delagdo</p>\n",
    "<p>Lecture 2</p>"
   ]
  },
  {
   "cell_type": "markdown",
   "id": "5a5c1add-0585-44c3-8eb0-f9e07218dfb2",
   "metadata": {},
   "source": [
    "---"
   ]
  },
  {
   "cell_type": "markdown",
   "id": "737e8b44-ab05-4f0b-822f-4d8f0a861417",
   "metadata": {},
   "source": [
    "Task 1"
   ]
  },
  {
   "cell_type": "markdown",
   "id": "8ddcaee8-9fc3-469d-a503-727a9ba79ab7",
   "metadata": {},
   "source": [
    "1. Show that the expected value $E[y] = \\sum y\\cdot P(y)=n\\cdot p_i $"
   ]
  },
  {
   "cell_type": "markdown",
   "id": "2f14d0ac-fe6c-43e4-aa8c-2d3a8c922966",
   "metadata": {},
   "source": [
    "Given that there are $n$ trials with probability $p_i$ of success for each trial, we can express the probability of getting $y$ successes in $n$ trials using the binomial probability formula:"
   ]
  },
  {
   "cell_type": "markdown",
   "id": "2062b6ca-607b-45d2-94d5-e2c8295126ca",
   "metadata": {},
   "source": [
    "$$P(y) = \\binom{n}{y} \\cdot p^y \\cdot (1-p)^{n-y}$$"
   ]
  },
  {
   "cell_type": "markdown",
   "id": "b40af5f3-88f2-4dee-bc5c-7e159fb00f69",
   "metadata": {},
   "source": [
    "Now, let's calculate the expected value $E[y]$, with the substituted binomial probability formula:"
   ]
  },
  {
   "cell_type": "markdown",
   "id": "8e882365-c2cc-479c-bfc7-16f07e93a9b3",
   "metadata": {},
   "source": [
    "$$E[y] = \\sum_{y=0}^{n} y \\cdot \\binom{n}{y} \\cdot p^y \\cdot (1-p)^{n-y}\n",
    "$$"
   ]
  },
  {
   "cell_type": "markdown",
   "id": "9280744f-782b-4e69-a20f-75d9557d919c",
   "metadata": {},
   "source": [
    "$$E[y] = \\sum_{y=0}^{n} y \\cdot \\frac{(n)!}{y!(n-y)!} \\cdot p^y \\cdot (1-p)^{n-y}\n",
    "$$"
   ]
  },
  {
   "cell_type": "markdown",
   "id": "7073b840-875b-4d14-977b-5a448f13b918",
   "metadata": {},
   "source": [
    "$$E[y] = \\sum_{y=1}^{n} y \\cdot \\frac{(n)!}{(y-1)!(n-y)!} \\cdot p^y \\cdot (1-p)^{n-y}\n",
    "$$"
   ]
  },
  {
   "cell_type": "markdown",
   "id": "3f82a2d7-fb8a-4635-baa2-eca477025b7a",
   "metadata": {},
   "source": [
    "After expanding the expression, we then manipulate the terms:"
   ]
  },
  {
   "cell_type": "markdown",
   "id": "f8aa8f44-aba0-4ff4-acb0-724fbc647f41",
   "metadata": {},
   "source": [
    "$$E[y] =\\sum_{y=1}^{n} \\frac{n!}{(y-1)!(n-y)!} \\cdot p^{y} \\cdot (1-p)^{n-y}$$\n"
   ]
  },
  {
   "cell_type": "markdown",
   "id": "f180bd47-4f61-4bfd-af26-7c9a6033eae9",
   "metadata": {},
   "source": [
    "$$E[y] =np \\cdot \\sum_{y=1}^{n} \\frac{(n-1)!}{(y-1)!(n-y)!} \\cdot p^{y-1} \\cdot (1-p)^{n-y}$$\n"
   ]
  },
  {
   "cell_type": "markdown",
   "id": "4ab35105-8696-447e-b6e4-79b76b9cdd26",
   "metadata": {},
   "source": [
    "$$E[y] =np \\cdot \\sum_{y=1}^{n} \\binom{n-1}{y-1} \\cdot p^{y-1} \\cdot (1-p)^{n-y}$$\n"
   ]
  },
  {
   "cell_type": "markdown",
   "id": "17517b7a-34e0-431a-ae0d-92445aa0f408",
   "metadata": {},
   "source": [
    "Notice that the summation term is essentially the binomial expression of $(P+(1-p))^{n-1}$, which simplifies to 1. Therefore:"
   ]
  },
  {
   "cell_type": "markdown",
   "id": "cff269c1-bf0f-4105-b5b5-0f6d7951bc8a",
   "metadata": {},
   "source": [
    "$$E[y] = np \\cdot 1$$"
   ]
  },
  {
   "cell_type": "markdown",
   "id": "85a97344-6c10-407b-bac4-e0acf14dd9f4",
   "metadata": {},
   "source": [
    "$$E[y] = np_i$$"
   ]
  },
  {
   "cell_type": "markdown",
   "id": "ad6ff32e-aaae-45e0-9345-ceb275cc1520",
   "metadata": {},
   "source": [
    "This completes the proof."
   ]
  },
  {
   "cell_type": "markdown",
   "id": "b59fb452-b9c7-4a96-be80-425e19dfddab",
   "metadata": {},
   "source": [
    "  "
   ]
  },
  {
   "cell_type": "markdown",
   "id": "6ed42eaf-5477-44c8-a494-80224c8cff3e",
   "metadata": {},
   "source": [
    "  "
   ]
  },
  {
   "cell_type": "markdown",
   "id": "88c600f7-c20a-4087-bb2d-18a311ba0baa",
   "metadata": {},
   "source": [
    "2. If 500 adults are sampled randomly, find the probability rhat the sample contains 100 person between 18 and 24, 200 between, 200 between the ages of 25 and 34, and 200 between the ages of 45 and 64.. What is the expected value for to obtain a person in the 65 and above?"
   ]
  },
  {
   "cell_type": "markdown",
   "id": "12cc67fd-3133-4edf-81e9-1d2cd3fcd5f6",
   "metadata": {},
   "source": [
    "We have to take note two things, $n$, which is the number of adults in total, and $p_5$, which is the probability of getting an adult aged 65 and above."
   ]
  },
  {
   "cell_type": "markdown",
   "id": "5369bab6-5c71-497b-8624-c8f859499e9e",
   "metadata": {},
   "source": [
    "We apply the formula of the expected value from the previous question, which is $E[Y] = np_i$:"
   ]
  },
  {
   "cell_type": "markdown",
   "id": "fe2894f7-1033-43e1-9f30-d2f69293c982",
   "metadata": {},
   "source": [
    "$$E[Y_5] = n \\cdot p_5$$"
   ]
  },
  {
   "cell_type": "markdown",
   "id": "c3b86c17-1689-43b7-b6af-8a10f7f11129",
   "metadata": {},
   "source": [
    "$$E[Y_5] = 500 \\cdot 0.16$$"
   ]
  },
  {
   "cell_type": "markdown",
   "id": "7ed3afdf-59b0-4b5f-a530-eaa9b8f5488a",
   "metadata": {},
   "source": [
    "$$E[Y_5] = 80$$"
   ]
  },
  {
   "cell_type": "markdown",
   "id": "03a507f9-cbff-412a-9199-8d4c44c2246c",
   "metadata": {},
   "source": [
    "We therefore have 80 as the expected value when getting a person aged 65 and more"
   ]
  },
  {
   "cell_type": "markdown",
   "id": "d1430602-e64b-453f-a3ca-06b99ffb5b6f",
   "metadata": {},
   "source": [
    "---"
   ]
  },
  {
   "cell_type": "markdown",
   "id": "2bf0d80a-de93-4aad-b3d4-9879df0d1121",
   "metadata": {},
   "source": [
    "  "
   ]
  },
  {
   "cell_type": "markdown",
   "id": "c77914c6-ac9c-4d10-abf3-5295f03d3a7f",
   "metadata": {},
   "source": [
    "Task 2"
   ]
  },
  {
   "cell_type": "markdown",
   "id": "fe3c7804-d9c5-4095-b7a3-eecf537a3676",
   "metadata": {},
   "source": [
    "1. From the following steps shown above, derive the probability distribution of the experiment."
   ]
  },
  {
   "cell_type": "markdown",
   "id": "835f90a9-fe91-4c56-9079-d7878ae24878",
   "metadata": {},
   "source": [
    "This follows a binomial distribution:"
   ]
  },
  {
   "cell_type": "markdown",
   "id": "3c4e2b98-b8e5-4cad-9bdd-f0ac9fd895a7",
   "metadata": {},
   "source": [
    "$$P(Y=y)=\\binom{n}{y}p^yq^{n-y}$$"
   ]
  },
  {
   "cell_type": "markdown",
   "id": "59798444-0e21-4ec9-ab30-6161dbef2467",
   "metadata": {},
   "source": [
    "- $p^y$ is the probability of success\n",
    "- $q^{n-y}$ is the probability of failure\n",
    "- $n$ is the total number of trials\n",
    "- $y$ is the number of successes\n",
    "    \n"
   ]
  },
  {
   "cell_type": "markdown",
   "id": "0b1a7335-bcf8-408e-be9d-c146e034a7ba",
   "metadata": {},
   "source": [
    "  "
   ]
  },
  {
   "cell_type": "markdown",
   "id": "b19736f9-317b-49fd-8086-c54d91662067",
   "metadata": {},
   "source": [
    "2. Show that the expectation of this probability distribution is $E[y] = \\sum y \\cdot P(y) = np$"
   ]
  },
  {
   "cell_type": "markdown",
   "id": "c9c66172-3fc7-42ab-8f46-0daf7d3cd433",
   "metadata": {},
   "source": [
    "With the expectation, we subtitute it with the binomial probability formula:"
   ]
  },
  {
   "cell_type": "markdown",
   "id": "6dca071c-1725-46a2-8c5d-c24638a930e4",
   "metadata": {},
   "source": [
    "$$E[y] = \\sum y \\cdot \\binom{n}{y}p^yq^{n-y}$$"
   ]
  },
  {
   "cell_type": "markdown",
   "id": "2e738783-4866-4aef-aaca-42992b44f737",
   "metadata": {},
   "source": [
    "This results to $E[y] = np$"
   ]
  },
  {
   "cell_type": "markdown",
   "id": "a4b0d669-37da-483f-8869-5097a004ffb7",
   "metadata": {},
   "source": [
    "  "
   ]
  },
  {
   "cell_type": "markdown",
   "id": "5a0863ed-e166-401b-9e5f-360f94714724",
   "metadata": {},
   "source": [
    "3. Experience has shown that 30% of all persons afflicted by a certain illness recover. A drug company has developed a new medication. Ten people with the illness were selected at random and received the medication; nine recovered shortly thereafter. Suppose that the medication was absolutely worthless. What is the probability that at least nine of ten receiving the medication will recover?"
   ]
  },
  {
   "cell_type": "markdown",
   "id": "c4e11c1d-5149-476d-9557-094efa7c4682",
   "metadata": {},
   "source": [
    "Let $p$ be the probability of recovery. Since the medication is worthless, we assume $p = 0.3$, the same as the recovery rate without the medication."
   ]
  },
  {
   "cell_type": "markdown",
   "id": "64a2e22b-5f63-44d1-8bcc-bcb5be00f189",
   "metadata": {},
   "source": [
    "We want to find $P(X\\geq9)$, where $X$ is the number of people recovering out of 10"
   ]
  },
  {
   "cell_type": "markdown",
   "id": "1cebc060-545d-4cc7-bbb9-c15ef7d75c11",
   "metadata": {},
   "source": [
    "Using the binomial probability formula:"
   ]
  },
  {
   "cell_type": "markdown",
   "id": "6a50a22c-18ae-49c7-93c1-a3b64145e813",
   "metadata": {},
   "source": [
    "$$P(X = k) = \\binom{n}{k} \\cdot p^k \\cdot (1-p)^{n-k}$$"
   ]
  },
  {
   "cell_type": "markdown",
   "id": "fb5c80df-b42d-4075-bcf0-49d6993957a2",
   "metadata": {},
   "source": [
    "where $n = 10$, and $k$ ranges from $0$ to $10$"
   ]
  },
  {
   "cell_type": "markdown",
   "id": "e9b6495b-3f87-4107-96c4-a693890d4e28",
   "metadata": {},
   "source": [
    "We can then calculate:"
   ]
  },
  {
   "cell_type": "markdown",
   "id": "09275d41-5c06-4a6e-8ab9-9e54a9c5eb9d",
   "metadata": {},
   "source": [
    "$$P(X=9)=\\binom{10}{9}\\cdot0.3^9 \\cdot (1-0.3)^{10-9}$$"
   ]
  },
  {
   "cell_type": "markdown",
   "id": "25297ac7-83ed-4f0b-bf7f-a4ca3857361e",
   "metadata": {},
   "source": [
    "$$P(X=9)=10\\cdot0.3^9\\cdot0.7$$"
   ]
  },
  {
   "cell_type": "markdown",
   "id": "121f5dfd-f0dc-4b98-a1c1-4dc944c78a39",
   "metadata": {},
   "source": [
    "$$P(X=10)=\\binom{10}{10}\\cdot0.3^10\\cdot (1-0.3)^{10-10}$$"
   ]
  },
  {
   "cell_type": "markdown",
   "id": "a55c4c7f-c6ae-4416-8b8f-0f96739eb54f",
   "metadata": {},
   "source": [
    "$$P(X=10)=0.3^{10}$$"
   ]
  },
  {
   "cell_type": "markdown",
   "id": "0808dc39-83a5-40c6-916c-4f09d84bd9e0",
   "metadata": {},
   "source": [
    "Adding these probabilities will give us the probability that at least nine out of ten people will recover:"
   ]
  },
  {
   "cell_type": "markdown",
   "id": "d80b9987-e6fd-4470-b973-5542856a2970",
   "metadata": {},
   "source": [
    "$$P(X\\geq9) = P(X=9) + P(X=10)$$"
   ]
  },
  {
   "cell_type": "markdown",
   "id": "5128766d-c6c5-4fb3-9057-fe0ed571466c",
   "metadata": {},
   "source": [
    "$$P(X\\geq9) = 10\\cdot0.3^9\\cdot0.7 + 0.3^{10}$$"
   ]
  },
  {
   "cell_type": "markdown",
   "id": "ef949a49-2d4b-4b86-82ac-f327f6990bdb",
   "metadata": {},
   "source": [
    "$$P(X\\geq9) = 0.00013611 + 0.000005904$$"
   ]
  },
  {
   "cell_type": "markdown",
   "id": "666798ad-e513-465e-993c-b755fbedad7c",
   "metadata": {},
   "source": [
    "$$P(X\\geq9) = 0.00013611 + 0.000005904$$"
   ]
  },
  {
   "cell_type": "markdown",
   "id": "3a54b76b-d2a7-42f7-a346-e5f6431319c5",
   "metadata": {},
   "source": [
    "$$P(X\\geq9) = \n",
    "0.000144\n",
    "$$"
   ]
  },
  {
   "cell_type": "markdown",
   "id": "2c4e3d77-01ce-4bb9-ab3d-8e8d6ef299ec",
   "metadata": {},
   "source": [
    "The probability will be approximately $0.000144$ or $0.0144$%"
   ]
  },
  {
   "cell_type": "markdown",
   "id": "67d7846d-8718-442c-b1ce-df85462a2981",
   "metadata": {},
   "source": [
    "  "
   ]
  },
  {
   "cell_type": "markdown",
   "id": "a072a440-58fe-4b29-a0ad-5a3109454410",
   "metadata": {},
   "source": [
    "4. Suppose that a lot of 5000 electrical fuses contains 5% defectives. If a sample of 5 fuses is tested, find the probability of observing at least one defective."
   ]
  },
  {
   "cell_type": "markdown",
   "id": "63cb3d0f-d377-43d4-baa6-ac11f3845574",
   "metadata": {},
   "source": [
    "Since there is 5% defectiveness, we can say that a fuse has 95% or 0.95 chance of being non-defective"
   ]
  },
  {
   "cell_type": "markdown",
   "id": "bd83d691-35ef-41d1-b429-93995051d520",
   "metadata": {},
   "source": [
    "  ---"
   ]
  },
  {
   "cell_type": "markdown",
   "id": "43fd1eb1-e73a-425a-8fb5-9c4df0cc46cf",
   "metadata": {},
   "source": [
    "Task 3:\n",
    "\n",
    "1) Find a general formula for the expected value of this distribution.\n",
    "\n",
    "We start with the definition of the expected value $E[Y]$ for a discrete random variable:\n",
    "\n",
    "$$ E[Y] = \\sum_{y=0}^{\\infty} y \\cdot p(y) $$\n",
    "\n",
    "Given the probability mass function $ p(y) = \\frac{\\lambda^y}{y!} e^{-\\lambda} $, we substitute it into the formula:\n",
    "\n",
    "$$ E[Y] = \\sum_{y=0}^{\\infty} y \\cdot \\frac{\\lambda^y}{y!} e^{-\\lambda} $$\n",
    "\n",
    "To simplify, let's rewrite $ y \\cdot \\frac{\\lambda^y}{y!} $ as $ \\lambda \\cdot \\frac{\\lambda^{y-1}}{(y-1)!} $. This change in expression will aid in simplifying the summation. We introduce a new variable $ z = y - 1 $:\n",
    "\n",
    "$$ E[Y] = \\sum_{y=0}^{\\infty} y \\cdot \\frac{\\lambda^y}{y!} e^{-\\lambda} = \\lambda e^{-\\lambda} \\sum_{y=1}^{\\infty} \\frac{\\lambda^{y-1}}{(y-1)!} $$\n",
    "\n",
    "Now, we switch the index of summation to $ z $:\n",
    "\n",
    "$$ E[Y] = \\lambda e^{-\\lambda} \\sum_{z=0}^{\\infty} \\frac{\\lambda^z}{z!} $$\n",
    "\n",
    "Recognizing that $ \\sum_{z=0}^{\\infty} \\frac{\\lambda^z}{z!} $ represents the Taylor series expansion of $ e^{\\lambda} $, we can simplify:\n",
    "\n",
    "$$ \\sum_{z=0}^{\\infty} \\frac{\\lambda^z}{z!} = e^{\\lambda} $$\n",
    "\n",
    "Therefore:\n",
    "\n",
    "$$ E[Y] = \\lambda e^{-\\lambda} \\cdot e^{\\lambda} = \\lambda $$\n",
    "\n",
    "Hence, the expected value of the given distribution $ p(y) = \\frac{\\lambda^y}{y!} e^{-\\lambda} $ is always $ \\lambda $.\n"
   ]
  },
  {
   "cell_type": "markdown",
   "id": "cc92ff02-dac2-4849-843d-bc237257f0f1",
   "metadata": {},
   "source": [
    "  "
   ]
  },
  {
   "cell_type": "markdown",
   "id": "4f5ef506-5420-4672-a3b3-3a7cac61ead5",
   "metadata": {},
   "source": [
    "2. A certain type of tree has seedlings randomly dispersed in a large area, with the mean density of seedlings being approximately five per square yard. If a forester randomly locates ten 1-square-yard sampling regions in the area, find the probability that none of the regions will contain seedlings.\n",
    "\n",
    "Let $X$ denote the number of seedlings in a 1-square-yard region. According to the problem, $X$ follows a Poisson distribution with mean $\\lambda = 5$.\n",
    "\n",
    "The probability that none of the regions will contain seedlings is the probability that each region has zero seedlings. This probability can be calculated using the Poisson probability mass function:\n",
    "\n",
    "$$ P(X = 0) = \\frac{\\lambda^0}{0!} e^{-\\lambda} = e^{-\\lambda} $$\n",
    "\n",
    "Substituting $\\lambda = 5$, we have:\n",
    "\n",
    "$$ P(X = 0) = e^{-5} $$\n",
    "\n",
    "Since the ten sampling regions are independent, the probability that none of them contain seedlings is the product of the individual probabilities:\n",
    "\n",
    "$$ P(\\text{None of the regions contain seedlings}) = (e^{-5})^{10} = e^{-50} $$\n",
    "\n",
    "Therefore, the probability that none of the ten regions will contain seedlings is approximately $e^{-50}$.\n",
    "\n"
   ]
  }
 ],
 "metadata": {
  "kernelspec": {
   "display_name": "Python 3 (ipykernel)",
   "language": "python",
   "name": "python3"
  },
  "language_info": {
   "codemirror_mode": {
    "name": "ipython",
    "version": 3
   },
   "file_extension": ".py",
   "mimetype": "text/x-python",
   "name": "python",
   "nbconvert_exporter": "python",
   "pygments_lexer": "ipython3",
   "version": "3.12.2"
  }
 },
 "nbformat": 4,
 "nbformat_minor": 5
}
